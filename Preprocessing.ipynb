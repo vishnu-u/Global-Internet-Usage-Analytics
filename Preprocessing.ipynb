{
 "cells": [
  {
   "cell_type": "markdown",
   "id": "8bc31d99",
   "metadata": {},
   "source": [
    "<h1>Global Internet Usage Analytics</h1>\n",
    "<p><b>Task: </b> To Analyze the Global Internet Usage by Country</p>"
   ]
  },
  {
   "cell_type": "code",
   "execution_count": 1,
   "id": "e4fece6a",
   "metadata": {},
   "outputs": [],
   "source": [
    "import pandas as pd\n",
    "import numpy as np"
   ]
  },
  {
   "cell_type": "markdown",
   "id": "5295236c",
   "metadata": {},
   "source": [
    "<h1>Data Preprocessing</h1>\n",
    "<ul>\n",
    "    <li>Broadband Penetration by Country - Broadband Subscription per 100 People for countries during the years 2004 - 2019</li>\n",
    "    <li>Mobile Cellular Subscriptions - Broadband Subscription per 100 People for countries during the years 1960 - 2019</li>\n",
    "    <li>Number of Internet Users - Number of Internet users for countries during the years 1990 - 2016</li>\n",
    "    <li>Share of Individuals using the Internet - Percentage of population using the internet for countries during the years 1990-2017</li>\n",
    "</ul>"
   ]
  },
  {
   "cell_type": "markdown",
   "id": "65507dce",
   "metadata": {},
   "source": [
    "<h2>Broadband Penetration by Country</h2>"
   ]
  },
  {
   "cell_type": "code",
   "execution_count": 2,
   "id": "4883ed99",
   "metadata": {},
   "outputs": [],
   "source": [
    "data = pd.read_csv(\"broadband-penetration-by-country.csv\")"
   ]
  },
  {
   "cell_type": "code",
   "execution_count": 3,
   "id": "45c2dc66",
   "metadata": {},
   "outputs": [
    {
     "data": {
      "text/html": [
       "<div>\n",
       "<style scoped>\n",
       "    .dataframe tbody tr th:only-of-type {\n",
       "        vertical-align: middle;\n",
       "    }\n",
       "\n",
       "    .dataframe tbody tr th {\n",
       "        vertical-align: top;\n",
       "    }\n",
       "\n",
       "    .dataframe thead th {\n",
       "        text-align: right;\n",
       "    }\n",
       "</style>\n",
       "<table border=\"1\" class=\"dataframe\">\n",
       "  <thead>\n",
       "    <tr style=\"text-align: right;\">\n",
       "      <th></th>\n",
       "      <th>Entity</th>\n",
       "      <th>Code</th>\n",
       "      <th>Year</th>\n",
       "      <th>Fixed broadband subscriptions (per 100 people)</th>\n",
       "    </tr>\n",
       "  </thead>\n",
       "  <tbody>\n",
       "    <tr>\n",
       "      <th>0</th>\n",
       "      <td>Afghanistan</td>\n",
       "      <td>AFG</td>\n",
       "      <td>2004</td>\n",
       "      <td>0.000809</td>\n",
       "    </tr>\n",
       "    <tr>\n",
       "      <th>1</th>\n",
       "      <td>Afghanistan</td>\n",
       "      <td>AFG</td>\n",
       "      <td>2005</td>\n",
       "      <td>0.000858</td>\n",
       "    </tr>\n",
       "    <tr>\n",
       "      <th>2</th>\n",
       "      <td>Afghanistan</td>\n",
       "      <td>AFG</td>\n",
       "      <td>2006</td>\n",
       "      <td>0.001892</td>\n",
       "    </tr>\n",
       "    <tr>\n",
       "      <th>3</th>\n",
       "      <td>Afghanistan</td>\n",
       "      <td>AFG</td>\n",
       "      <td>2007</td>\n",
       "      <td>0.001845</td>\n",
       "    </tr>\n",
       "    <tr>\n",
       "      <th>4</th>\n",
       "      <td>Afghanistan</td>\n",
       "      <td>AFG</td>\n",
       "      <td>2008</td>\n",
       "      <td>0.001804</td>\n",
       "    </tr>\n",
       "    <tr>\n",
       "      <th>...</th>\n",
       "      <td>...</td>\n",
       "      <td>...</td>\n",
       "      <td>...</td>\n",
       "      <td>...</td>\n",
       "    </tr>\n",
       "    <tr>\n",
       "      <th>4170</th>\n",
       "      <td>Zimbabwe</td>\n",
       "      <td>ZWE</td>\n",
       "      <td>2015</td>\n",
       "      <td>1.187053</td>\n",
       "    </tr>\n",
       "    <tr>\n",
       "      <th>4171</th>\n",
       "      <td>Zimbabwe</td>\n",
       "      <td>ZWE</td>\n",
       "      <td>2016</td>\n",
       "      <td>1.217633</td>\n",
       "    </tr>\n",
       "    <tr>\n",
       "      <th>4172</th>\n",
       "      <td>Zimbabwe</td>\n",
       "      <td>ZWE</td>\n",
       "      <td>2017</td>\n",
       "      <td>1.315694</td>\n",
       "    </tr>\n",
       "    <tr>\n",
       "      <th>4173</th>\n",
       "      <td>Zimbabwe</td>\n",
       "      <td>ZWE</td>\n",
       "      <td>2018</td>\n",
       "      <td>1.406322</td>\n",
       "    </tr>\n",
       "    <tr>\n",
       "      <th>4174</th>\n",
       "      <td>Zimbabwe</td>\n",
       "      <td>ZWE</td>\n",
       "      <td>2019</td>\n",
       "      <td>1.395817</td>\n",
       "    </tr>\n",
       "  </tbody>\n",
       "</table>\n",
       "<p>4175 rows × 4 columns</p>\n",
       "</div>"
      ],
      "text/plain": [
       "           Entity Code  Year  Fixed broadband subscriptions (per 100 people)\n",
       "0     Afghanistan  AFG  2004                                        0.000809\n",
       "1     Afghanistan  AFG  2005                                        0.000858\n",
       "2     Afghanistan  AFG  2006                                        0.001892\n",
       "3     Afghanistan  AFG  2007                                        0.001845\n",
       "4     Afghanistan  AFG  2008                                        0.001804\n",
       "...           ...  ...   ...                                             ...\n",
       "4170     Zimbabwe  ZWE  2015                                        1.187053\n",
       "4171     Zimbabwe  ZWE  2016                                        1.217633\n",
       "4172     Zimbabwe  ZWE  2017                                        1.315694\n",
       "4173     Zimbabwe  ZWE  2018                                        1.406322\n",
       "4174     Zimbabwe  ZWE  2019                                        1.395817\n",
       "\n",
       "[4175 rows x 4 columns]"
      ]
     },
     "execution_count": 3,
     "metadata": {},
     "output_type": "execute_result"
    }
   ],
   "source": [
    "data"
   ]
  },
  {
   "cell_type": "code",
   "execution_count": 4,
   "id": "184a9563",
   "metadata": {},
   "outputs": [
    {
     "data": {
      "text/plain": [
       "Entity                                              0\n",
       "Code                                              800\n",
       "Year                                                0\n",
       "Fixed broadband subscriptions (per 100 people)      0\n",
       "dtype: int64"
      ]
     },
     "execution_count": 4,
     "metadata": {},
     "output_type": "execute_result"
    }
   ],
   "source": [
    "data.isna().sum()"
   ]
  },
  {
   "cell_type": "markdown",
   "id": "44b5fffe",
   "metadata": {},
   "source": [
    "<p>Remove the <b>Code</b> column, since it is not relevant</p>"
   ]
  },
  {
   "cell_type": "code",
   "execution_count": 5,
   "id": "e21168ca",
   "metadata": {},
   "outputs": [],
   "source": [
    "data.drop([\"Code\"],inplace=True,axis=1)"
   ]
  },
  {
   "cell_type": "code",
   "execution_count": 6,
   "id": "2965f002",
   "metadata": {},
   "outputs": [],
   "source": [
    "data.to_csv(\"Broadband.csv\",index=False)"
   ]
  },
  {
   "cell_type": "markdown",
   "id": "3eef2c8f",
   "metadata": {},
   "source": [
    "<h2>Mobile Cellular Subscriptions</h2>"
   ]
  },
  {
   "cell_type": "code",
   "execution_count": 7,
   "id": "28fbb40a",
   "metadata": {},
   "outputs": [],
   "source": [
    "data = pd.read_csv(\"mobile-cellular-subscriptions-per-100-people.csv\")"
   ]
  },
  {
   "cell_type": "code",
   "execution_count": 8,
   "id": "c333d8bb",
   "metadata": {},
   "outputs": [
    {
     "data": {
      "text/html": [
       "<div>\n",
       "<style scoped>\n",
       "    .dataframe tbody tr th:only-of-type {\n",
       "        vertical-align: middle;\n",
       "    }\n",
       "\n",
       "    .dataframe tbody tr th {\n",
       "        vertical-align: top;\n",
       "    }\n",
       "\n",
       "    .dataframe thead th {\n",
       "        text-align: right;\n",
       "    }\n",
       "</style>\n",
       "<table border=\"1\" class=\"dataframe\">\n",
       "  <thead>\n",
       "    <tr style=\"text-align: right;\">\n",
       "      <th></th>\n",
       "      <th>Entity</th>\n",
       "      <th>Code</th>\n",
       "      <th>Year</th>\n",
       "      <th>Mobile cellular subscriptions (per 100 people)</th>\n",
       "    </tr>\n",
       "  </thead>\n",
       "  <tbody>\n",
       "    <tr>\n",
       "      <th>0</th>\n",
       "      <td>Afghanistan</td>\n",
       "      <td>AFG</td>\n",
       "      <td>1960</td>\n",
       "      <td>0.000000</td>\n",
       "    </tr>\n",
       "    <tr>\n",
       "      <th>1</th>\n",
       "      <td>Afghanistan</td>\n",
       "      <td>AFG</td>\n",
       "      <td>1965</td>\n",
       "      <td>0.000000</td>\n",
       "    </tr>\n",
       "    <tr>\n",
       "      <th>2</th>\n",
       "      <td>Afghanistan</td>\n",
       "      <td>AFG</td>\n",
       "      <td>1970</td>\n",
       "      <td>0.000000</td>\n",
       "    </tr>\n",
       "    <tr>\n",
       "      <th>3</th>\n",
       "      <td>Afghanistan</td>\n",
       "      <td>AFG</td>\n",
       "      <td>1975</td>\n",
       "      <td>0.000000</td>\n",
       "    </tr>\n",
       "    <tr>\n",
       "      <th>4</th>\n",
       "      <td>Afghanistan</td>\n",
       "      <td>AFG</td>\n",
       "      <td>1976</td>\n",
       "      <td>0.000000</td>\n",
       "    </tr>\n",
       "    <tr>\n",
       "      <th>...</th>\n",
       "      <td>...</td>\n",
       "      <td>...</td>\n",
       "      <td>...</td>\n",
       "      <td>...</td>\n",
       "    </tr>\n",
       "    <tr>\n",
       "      <th>11890</th>\n",
       "      <td>Zimbabwe</td>\n",
       "      <td>ZWE</td>\n",
       "      <td>2015</td>\n",
       "      <td>92.347105</td>\n",
       "    </tr>\n",
       "    <tr>\n",
       "      <th>11891</th>\n",
       "      <td>Zimbabwe</td>\n",
       "      <td>ZWE</td>\n",
       "      <td>2016</td>\n",
       "      <td>91.793458</td>\n",
       "    </tr>\n",
       "    <tr>\n",
       "      <th>11892</th>\n",
       "      <td>Zimbabwe</td>\n",
       "      <td>ZWE</td>\n",
       "      <td>2017</td>\n",
       "      <td>98.985073</td>\n",
       "    </tr>\n",
       "    <tr>\n",
       "      <th>11893</th>\n",
       "      <td>Zimbabwe</td>\n",
       "      <td>ZWE</td>\n",
       "      <td>2018</td>\n",
       "      <td>89.404869</td>\n",
       "    </tr>\n",
       "    <tr>\n",
       "      <th>11894</th>\n",
       "      <td>Zimbabwe</td>\n",
       "      <td>ZWE</td>\n",
       "      <td>2019</td>\n",
       "      <td>90.102290</td>\n",
       "    </tr>\n",
       "  </tbody>\n",
       "</table>\n",
       "<p>11895 rows × 4 columns</p>\n",
       "</div>"
      ],
      "text/plain": [
       "            Entity Code  Year  Mobile cellular subscriptions (per 100 people)\n",
       "0      Afghanistan  AFG  1960                                        0.000000\n",
       "1      Afghanistan  AFG  1965                                        0.000000\n",
       "2      Afghanistan  AFG  1970                                        0.000000\n",
       "3      Afghanistan  AFG  1975                                        0.000000\n",
       "4      Afghanistan  AFG  1976                                        0.000000\n",
       "...            ...  ...   ...                                             ...\n",
       "11890     Zimbabwe  ZWE  2015                                       92.347105\n",
       "11891     Zimbabwe  ZWE  2016                                       91.793458\n",
       "11892     Zimbabwe  ZWE  2017                                       98.985073\n",
       "11893     Zimbabwe  ZWE  2018                                       89.404869\n",
       "11894     Zimbabwe  ZWE  2019                                       90.102290\n",
       "\n",
       "[11895 rows x 4 columns]"
      ]
     },
     "execution_count": 8,
     "metadata": {},
     "output_type": "execute_result"
    }
   ],
   "source": [
    "data"
   ]
  },
  {
   "cell_type": "code",
   "execution_count": 9,
   "id": "c1610298",
   "metadata": {},
   "outputs": [
    {
     "data": {
      "text/plain": [
       "Entity                                               0\n",
       "Code                                              2250\n",
       "Year                                                 0\n",
       "Mobile cellular subscriptions (per 100 people)       0\n",
       "dtype: int64"
      ]
     },
     "execution_count": 9,
     "metadata": {},
     "output_type": "execute_result"
    }
   ],
   "source": [
    "data.isna().sum()"
   ]
  },
  {
   "cell_type": "markdown",
   "id": "176fb927",
   "metadata": {},
   "source": [
    "<p>Remove the <b>Code</b> column, since it is not relevant</p>"
   ]
  },
  {
   "cell_type": "code",
   "execution_count": 10,
   "id": "5048709c",
   "metadata": {},
   "outputs": [],
   "source": [
    "data.drop([\"Code\"],inplace=True,axis=1)"
   ]
  },
  {
   "cell_type": "code",
   "execution_count": 11,
   "id": "3727bd51",
   "metadata": {},
   "outputs": [],
   "source": [
    "data.to_csv(\"Mobile.csv\",index=False)"
   ]
  },
  {
   "cell_type": "markdown",
   "id": "34f4b90c",
   "metadata": {},
   "source": [
    "<h2>Number of Internet Users</h2>"
   ]
  },
  {
   "cell_type": "code",
   "execution_count": 12,
   "id": "ea7700cd",
   "metadata": {},
   "outputs": [],
   "source": [
    "data = pd.read_csv(\"number-of-internet-users-by-country.csv\")"
   ]
  },
  {
   "cell_type": "code",
   "execution_count": 13,
   "id": "24a93fe6",
   "metadata": {},
   "outputs": [
    {
     "data": {
      "text/html": [
       "<div>\n",
       "<style scoped>\n",
       "    .dataframe tbody tr th:only-of-type {\n",
       "        vertical-align: middle;\n",
       "    }\n",
       "\n",
       "    .dataframe tbody tr th {\n",
       "        vertical-align: top;\n",
       "    }\n",
       "\n",
       "    .dataframe thead th {\n",
       "        text-align: right;\n",
       "    }\n",
       "</style>\n",
       "<table border=\"1\" class=\"dataframe\">\n",
       "  <thead>\n",
       "    <tr style=\"text-align: right;\">\n",
       "      <th></th>\n",
       "      <th>Entity</th>\n",
       "      <th>Code</th>\n",
       "      <th>Year</th>\n",
       "      <th>Number of internet users (OWID based on WB &amp; UN)</th>\n",
       "    </tr>\n",
       "  </thead>\n",
       "  <tbody>\n",
       "    <tr>\n",
       "      <th>0</th>\n",
       "      <td>Afghanistan</td>\n",
       "      <td>AFG</td>\n",
       "      <td>1990</td>\n",
       "      <td>0</td>\n",
       "    </tr>\n",
       "    <tr>\n",
       "      <th>1</th>\n",
       "      <td>Afghanistan</td>\n",
       "      <td>AFG</td>\n",
       "      <td>2001</td>\n",
       "      <td>990</td>\n",
       "    </tr>\n",
       "    <tr>\n",
       "      <th>2</th>\n",
       "      <td>Afghanistan</td>\n",
       "      <td>AFG</td>\n",
       "      <td>2002</td>\n",
       "      <td>1003</td>\n",
       "    </tr>\n",
       "    <tr>\n",
       "      <th>3</th>\n",
       "      <td>Afghanistan</td>\n",
       "      <td>AFG</td>\n",
       "      <td>2003</td>\n",
       "      <td>20272</td>\n",
       "    </tr>\n",
       "    <tr>\n",
       "      <th>4</th>\n",
       "      <td>Afghanistan</td>\n",
       "      <td>AFG</td>\n",
       "      <td>2004</td>\n",
       "      <td>25520</td>\n",
       "    </tr>\n",
       "    <tr>\n",
       "      <th>...</th>\n",
       "      <td>...</td>\n",
       "      <td>...</td>\n",
       "      <td>...</td>\n",
       "      <td>...</td>\n",
       "    </tr>\n",
       "    <tr>\n",
       "      <th>4531</th>\n",
       "      <td>Zimbabwe</td>\n",
       "      <td>ZWE</td>\n",
       "      <td>2012</td>\n",
       "      <td>1765299</td>\n",
       "    </tr>\n",
       "    <tr>\n",
       "      <th>4532</th>\n",
       "      <td>Zimbabwe</td>\n",
       "      <td>ZWE</td>\n",
       "      <td>2013</td>\n",
       "      <td>2333448</td>\n",
       "    </tr>\n",
       "    <tr>\n",
       "      <th>4533</th>\n",
       "      <td>Zimbabwe</td>\n",
       "      <td>ZWE</td>\n",
       "      <td>2014</td>\n",
       "      <td>2522081</td>\n",
       "    </tr>\n",
       "    <tr>\n",
       "      <th>4534</th>\n",
       "      <td>Zimbabwe</td>\n",
       "      <td>ZWE</td>\n",
       "      <td>2015</td>\n",
       "      <td>3588237</td>\n",
       "    </tr>\n",
       "    <tr>\n",
       "      <th>4535</th>\n",
       "      <td>Zimbabwe</td>\n",
       "      <td>ZWE</td>\n",
       "      <td>2016</td>\n",
       "      <td>3733962</td>\n",
       "    </tr>\n",
       "  </tbody>\n",
       "</table>\n",
       "<p>4536 rows × 4 columns</p>\n",
       "</div>"
      ],
      "text/plain": [
       "           Entity Code  Year  Number of internet users (OWID based on WB & UN)\n",
       "0     Afghanistan  AFG  1990                                                 0\n",
       "1     Afghanistan  AFG  2001                                               990\n",
       "2     Afghanistan  AFG  2002                                              1003\n",
       "3     Afghanistan  AFG  2003                                             20272\n",
       "4     Afghanistan  AFG  2004                                             25520\n",
       "...           ...  ...   ...                                               ...\n",
       "4531     Zimbabwe  ZWE  2012                                           1765299\n",
       "4532     Zimbabwe  ZWE  2013                                           2333448\n",
       "4533     Zimbabwe  ZWE  2014                                           2522081\n",
       "4534     Zimbabwe  ZWE  2015                                           3588237\n",
       "4535     Zimbabwe  ZWE  2016                                           3733962\n",
       "\n",
       "[4536 rows x 4 columns]"
      ]
     },
     "execution_count": 13,
     "metadata": {},
     "output_type": "execute_result"
    }
   ],
   "source": [
    "data"
   ]
  },
  {
   "cell_type": "code",
   "execution_count": 14,
   "id": "4026108e",
   "metadata": {},
   "outputs": [
    {
     "data": {
      "text/plain": [
       "Entity                                               0\n",
       "Code                                                22\n",
       "Year                                                 0\n",
       "Number of internet users (OWID based on WB & UN)     0\n",
       "dtype: int64"
      ]
     },
     "execution_count": 14,
     "metadata": {},
     "output_type": "execute_result"
    }
   ],
   "source": [
    "data.isna().sum()"
   ]
  },
  {
   "cell_type": "markdown",
   "id": "3fa2ced7",
   "metadata": {},
   "source": [
    "<p>Remove the <b>Code</b> column, since it is not relevant</p>"
   ]
  },
  {
   "cell_type": "code",
   "execution_count": 15,
   "id": "54668cb2",
   "metadata": {},
   "outputs": [],
   "source": [
    "data.drop([\"Code\"],inplace=True,axis=1)"
   ]
  },
  {
   "cell_type": "code",
   "execution_count": 16,
   "id": "72925d39",
   "metadata": {},
   "outputs": [],
   "source": [
    "data.to_csv(\"Internet_Users.csv\",index=False)"
   ]
  },
  {
   "cell_type": "markdown",
   "id": "471f5077",
   "metadata": {},
   "source": [
    "<h2>Share of Individuals using the Internet</h2>"
   ]
  },
  {
   "cell_type": "code",
   "execution_count": 17,
   "id": "6b6f3513",
   "metadata": {},
   "outputs": [],
   "source": [
    "data = pd.read_csv(\"share-of-individuals-using-the-internet.csv\")"
   ]
  },
  {
   "cell_type": "code",
   "execution_count": 18,
   "id": "f6b90f61",
   "metadata": {},
   "outputs": [
    {
     "data": {
      "text/html": [
       "<div>\n",
       "<style scoped>\n",
       "    .dataframe tbody tr th:only-of-type {\n",
       "        vertical-align: middle;\n",
       "    }\n",
       "\n",
       "    .dataframe tbody tr th {\n",
       "        vertical-align: top;\n",
       "    }\n",
       "\n",
       "    .dataframe thead th {\n",
       "        text-align: right;\n",
       "    }\n",
       "</style>\n",
       "<table border=\"1\" class=\"dataframe\">\n",
       "  <thead>\n",
       "    <tr style=\"text-align: right;\">\n",
       "      <th></th>\n",
       "      <th>Entity</th>\n",
       "      <th>Code</th>\n",
       "      <th>Year</th>\n",
       "      <th>Individuals using the Internet (% of population)</th>\n",
       "    </tr>\n",
       "  </thead>\n",
       "  <tbody>\n",
       "    <tr>\n",
       "      <th>0</th>\n",
       "      <td>Afghanistan</td>\n",
       "      <td>AFG</td>\n",
       "      <td>1990</td>\n",
       "      <td>0.000000</td>\n",
       "    </tr>\n",
       "    <tr>\n",
       "      <th>1</th>\n",
       "      <td>Afghanistan</td>\n",
       "      <td>AFG</td>\n",
       "      <td>1991</td>\n",
       "      <td>0.000000</td>\n",
       "    </tr>\n",
       "    <tr>\n",
       "      <th>2</th>\n",
       "      <td>Afghanistan</td>\n",
       "      <td>AFG</td>\n",
       "      <td>1992</td>\n",
       "      <td>0.000000</td>\n",
       "    </tr>\n",
       "    <tr>\n",
       "      <th>3</th>\n",
       "      <td>Afghanistan</td>\n",
       "      <td>AFG</td>\n",
       "      <td>1993</td>\n",
       "      <td>0.000000</td>\n",
       "    </tr>\n",
       "    <tr>\n",
       "      <th>4</th>\n",
       "      <td>Afghanistan</td>\n",
       "      <td>AFG</td>\n",
       "      <td>1994</td>\n",
       "      <td>0.000000</td>\n",
       "    </tr>\n",
       "    <tr>\n",
       "      <th>...</th>\n",
       "      <td>...</td>\n",
       "      <td>...</td>\n",
       "      <td>...</td>\n",
       "      <td>...</td>\n",
       "    </tr>\n",
       "    <tr>\n",
       "      <th>7114</th>\n",
       "      <td>Zimbabwe</td>\n",
       "      <td>ZWE</td>\n",
       "      <td>2013</td>\n",
       "      <td>15.500000</td>\n",
       "    </tr>\n",
       "    <tr>\n",
       "      <th>7115</th>\n",
       "      <td>Zimbabwe</td>\n",
       "      <td>ZWE</td>\n",
       "      <td>2014</td>\n",
       "      <td>16.364740</td>\n",
       "    </tr>\n",
       "    <tr>\n",
       "      <th>7116</th>\n",
       "      <td>Zimbabwe</td>\n",
       "      <td>ZWE</td>\n",
       "      <td>2015</td>\n",
       "      <td>22.742818</td>\n",
       "    </tr>\n",
       "    <tr>\n",
       "      <th>7117</th>\n",
       "      <td>Zimbabwe</td>\n",
       "      <td>ZWE</td>\n",
       "      <td>2016</td>\n",
       "      <td>23.119989</td>\n",
       "    </tr>\n",
       "    <tr>\n",
       "      <th>7118</th>\n",
       "      <td>Zimbabwe</td>\n",
       "      <td>ZWE</td>\n",
       "      <td>2017</td>\n",
       "      <td>27.055488</td>\n",
       "    </tr>\n",
       "  </tbody>\n",
       "</table>\n",
       "<p>7119 rows × 4 columns</p>\n",
       "</div>"
      ],
      "text/plain": [
       "           Entity Code  Year  Individuals using the Internet (% of population)\n",
       "0     Afghanistan  AFG  1990                                          0.000000\n",
       "1     Afghanistan  AFG  1991                                          0.000000\n",
       "2     Afghanistan  AFG  1992                                          0.000000\n",
       "3     Afghanistan  AFG  1993                                          0.000000\n",
       "4     Afghanistan  AFG  1994                                          0.000000\n",
       "...           ...  ...   ...                                               ...\n",
       "7114     Zimbabwe  ZWE  2013                                         15.500000\n",
       "7115     Zimbabwe  ZWE  2014                                         16.364740\n",
       "7116     Zimbabwe  ZWE  2015                                         22.742818\n",
       "7117     Zimbabwe  ZWE  2016                                         23.119989\n",
       "7118     Zimbabwe  ZWE  2017                                         27.055488\n",
       "\n",
       "[7119 rows x 4 columns]"
      ]
     },
     "execution_count": 18,
     "metadata": {},
     "output_type": "execute_result"
    }
   ],
   "source": [
    "data"
   ]
  },
  {
   "cell_type": "code",
   "execution_count": 19,
   "id": "2771e7c3",
   "metadata": {},
   "outputs": [
    {
     "data": {
      "text/plain": [
       "Entity                                                 0\n",
       "Code                                                1339\n",
       "Year                                                   0\n",
       "Individuals using the Internet (% of population)       0\n",
       "dtype: int64"
      ]
     },
     "execution_count": 19,
     "metadata": {},
     "output_type": "execute_result"
    }
   ],
   "source": [
    "data.isna().sum()"
   ]
  },
  {
   "cell_type": "markdown",
   "id": "9a7bb459",
   "metadata": {},
   "source": [
    "<p>Remove the <b>Code</b> column, since it is not relevant</p>"
   ]
  },
  {
   "cell_type": "code",
   "execution_count": 20,
   "id": "13e767c6",
   "metadata": {},
   "outputs": [],
   "source": [
    "data.drop([\"Code\"],inplace=True,axis=1)"
   ]
  },
  {
   "cell_type": "code",
   "execution_count": 21,
   "id": "3c57595e",
   "metadata": {},
   "outputs": [],
   "source": [
    "data.to_csv(\"Share_Of_Internet_Users.csv\",index=False)"
   ]
  }
 ],
 "metadata": {
  "kernelspec": {
   "display_name": "Python 3 (ipykernel)",
   "language": "python",
   "name": "python3"
  },
  "language_info": {
   "codemirror_mode": {
    "name": "ipython",
    "version": 3
   },
   "file_extension": ".py",
   "mimetype": "text/x-python",
   "name": "python",
   "nbconvert_exporter": "python",
   "pygments_lexer": "ipython3",
   "version": "3.8.0"
  }
 },
 "nbformat": 4,
 "nbformat_minor": 5
}
